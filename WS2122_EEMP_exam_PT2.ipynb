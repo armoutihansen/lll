{
  "cells": [
    {
      "cell_type": "markdown",
      "metadata": {
        "id": "TzdUp-85Mq8K"
      },
      "source": [
        "# 1253M.BPAE1 MP BM People Analytics & Econometrics\n",
        "## Examiner: Prof. Dr. Dirk Sliwka\n",
        "## Date: 18.03.2022"
      ]
    },
    {
      "cell_type": "markdown",
      "metadata": {
        "id": "l3hPXnuhMq8M"
      },
      "source": [
        "## Instructions:\n",
        "\n",
        "Please follow the instructions below, such that we will be able to correctly identify your solutions to the exam.\n",
        "\n",
        "**1. Please rename this jupyter notebook and save it as a file in the following format:**\n",
        "\n",
        "*matriculation_number_WS2122_EEMP_exam_PT2.ipynb*\n",
        "\n",
        "- i.e., the final file name should look like this: *1234567_WS2122_EEMP_exam_PT2.ipynb*\n",
        "\n",
        "**2. Before the exam ends, please save the notebook and share it with jeshan49@gmail.com.**\n",
        "\n",
        "**3. Please also enter your matriculation number and your initials in the following cell:**"
      ]
    },
    {
      "cell_type": "markdown",
      "metadata": {
        "id": "3fodEa48Mq8M"
      },
      "source": [
        "### Matriculation number:\n",
        "### Initials:"
      ]
    },
    {
      "cell_type": "markdown",
      "metadata": {
        "id": "XgXDCj9fMq8M"
      },
      "source": [
        "## Background information\n",
        "Please consider the following simulated two-period panel data, in which a given employee's sales (in euros) is given by the following equation:\n",
        "\n",
        "\\begin{equation}\n",
        "sales_{it} = 10000 + 100*ability_i +100*self\\_control_i + 2000*year_t + 0*WFH_{it} + 180*age_{it} - 2*age_{it}^2 + 2500*fulltime_{it} + ϵ_{it}\n",
        "\\end{equation}\n",
        "\n",
        "where $ϵ_{it}\\sim N(0,16000000)$\n",
        "\n",
        "The independent variables can be described as follows:\n",
        "\n",
        "- $ability_i$: Individual $i$'s time-fixed ability.\n",
        "\n",
        "- $self\\_control_i$: Individual $i$'s time fixed self control.\n",
        "\n",
        "- $year_t$: Year indicator that takes the value 1 or 2.\n",
        "\n",
        "- $WFH_{it}$: A dummy variable that indicates whether individual $i$ decided to work from home in period $t$. The variable only enters at $t=2$ as the option is not present in $t=1$.\n",
        "\n",
        "- $age_{it}$: The age in years of individual $i$ in period $t$.\n",
        "\n",
        "- $fulltime_{it}$: dummy variable taking the value 1 if individual $i$ works fulltime in period $t$.\n",
        "\n",
        "The code cell below (i) imports numpy, pandas, (ii) installs linearmodels, (iii) simulates the data described above, and (iv) stores the data in the dataframe __df__ and prints a summary of the included variables. Please execute the cell before you work on the exercises."
      ]
    },
    {
      "cell_type": "code",
      "execution_count": null,
      "metadata": {
        "id": "vpUiKGU_Mq8N"
      },
      "outputs": [],
      "source": [
        "import numpy as np\n",
        "import pandas as pd\n",
        "from scipy.special import expit\n",
        "import matplotlib.pyplot as plt\n",
        "!pip install linearmodels\n",
        "seed = 10\n",
        "rng = np.random.default_rng(seed)\n",
        "n=8000\n",
        "df1=pd.DataFrame(index=range(n))\n",
        "df1['ability'] = rng.normal(100,15,n)\n",
        "df1['self_control'] = rng.normal(100,10,n)\n",
        "df1['WFH']=0\n",
        "df1['age'] = rng.uniform(18, 70, n)\n",
        "df1['fulltime'] = rng.choice([0,1], size=n, p=[0.23,0.77])\n",
        "df1['year']=1\n",
        "df1['persnr']=df1.index\n",
        "stand_self_control = (df1['self_control']-np.mean(df1['self_control']))/np.std(df1['self_control'])\n",
        "stand_ability = (df1['ability']-np.mean(df1['ability']))/np.std(df1['ability'])\n",
        "p_WFH = expit(stand_self_control-0.2*stand_ability-0.1*df1['fulltime'])\n",
        "df2=df1.copy()\n",
        "df2['WFH']=[rng.choice([1,0],1,p=[p,1-p]).item() for p in p_WFH]\n",
        "df2['year']=2\n",
        "df2['age']=df1['age']+1\n",
        "df=pd.concat([df1,df2], sort=False)\n",
        "df['sales'] = 10000 + 100*df['ability'] +100*df['self_control'] + 2000*df['year'] + 0*df['WFH'] + 180*df['age'] - 2*df['age']**2 + 2500*df['fulltime'] + rng.normal(0,4000,2*n)\n",
        "df.describe()"
      ]
    },
    {
      "cell_type": "markdown",
      "metadata": {
        "id": "7sYRuRwXMq8O"
      },
      "source": [
        "## Assignment 1 (30 points)"
      ]
    },
    {
      "cell_type": "markdown",
      "source": [
        "Suppose a researcher uses the data set created in the above to study the effects of working from home on productivity.\n",
        "\n",
        "a) First run a simple OLS regression of sales on the WFH dummy indicating whether somebody is working from home, controlling for a dummy variable that takes value 1 if the observation comes from the second year. Please interpret the size and level of significance of the WFH regression coefficient. \n",
        "\n",
        "**5 points**"
      ],
      "metadata": {
        "id": "_KdZ6SbZulbw"
      }
    },
    {
      "cell_type": "code",
      "source": [
        "# Insert your code here"
      ],
      "metadata": {
        "id": "Pw-vPTXwgt6L"
      },
      "execution_count": null,
      "outputs": []
    },
    {
      "cell_type": "markdown",
      "source": [
        "'# Give verbal answer here"
      ],
      "metadata": {
        "id": "LG1z2inChxSw"
      }
    },
    {
      "cell_type": "markdown",
      "source": [
        "\n",
        "b) Suppose the researcher suspects that there may be an omitted variable bias. The first candidate variable the researcher investigates is age. She wants to control for age estimating a regression model that also includes a quadratic term for age. First explain the purpose of including a quadratic age term.\n",
        "Please estimate the respective model. Interpret your findings on the association between age and sales. Given the observed regression results when you compare regression 1 to regression 2, is it likely that age is an important omitted variable in the first regression?\n",
        "\n",
        "**8 points**"
      ],
      "metadata": {
        "id": "C46g6hgPxzPI"
      }
    },
    {
      "cell_type": "code",
      "source": [
        "# Insert your code here"
      ],
      "metadata": {
        "id": "F9T0IyVQiQDw"
      },
      "execution_count": null,
      "outputs": []
    },
    {
      "cell_type": "markdown",
      "source": [
        "'# Give verbal answer here"
      ],
      "metadata": {
        "id": "NOrC7XSmiRFv"
      }
    },
    {
      "cell_type": "markdown",
      "source": [
        "\n",
        "c) The next candidate variable for an omitted variable bias which the researcher explores is the employee's ability. Please now include ability as an additional control variable in the regression model and interpret your findings. When you compare the WFH cofficient from this regression with the previous results from regression 2, what would you conclude about the association between ability and the likelihood that someone is working from home. \n",
        "\n",
        "\n",
        "**8 points**"
      ],
      "metadata": {
        "id": "1r8FHzeI4SKq"
      }
    },
    {
      "cell_type": "code",
      "source": [
        "# Insert your code here"
      ],
      "metadata": {
        "id": "ZVrY1ygBiVzg"
      },
      "execution_count": null,
      "outputs": []
    },
    {
      "cell_type": "markdown",
      "source": [
        "'# Give verbal answer here"
      ],
      "metadata": {
        "id": "MdHSEjBUiW-y"
      }
    },
    {
      "cell_type": "markdown",
      "source": [
        "\n",
        "d) The researcher now thinks that it is hard to keep track of all potential candidates for omitted variable bias. But she is confident that any important omitted variable is stable over time. Which method allows to \"control for\" time constant omitted variables? Please run the respective regression (you do not need to control for age) and interpret your findings.\n",
        "\n",
        "**9 points**"
      ],
      "metadata": {
        "id": "nnUs26e17HBF"
      }
    },
    {
      "cell_type": "code",
      "source": [
        "# Insert your code here"
      ],
      "metadata": {
        "id": "vEzgZrOHiaIX"
      },
      "execution_count": null,
      "outputs": []
    },
    {
      "cell_type": "markdown",
      "source": [
        "'# Give verbal answer here"
      ],
      "metadata": {
        "id": "lpc0c0d0ibYR"
      }
    },
    {
      "cell_type": "markdown",
      "metadata": {
        "id": "ObavkrikMq8P"
      },
      "source": [
        "## Assignment 2 (30 points)\n",
        "In this assignment, we are mainly interested in predicting whether a given employee decided to work from home (WFH=1) in year 2 based on her year 1 characteristics.\n",
        "\n",
        "**a)** Please define $y$ to consist of the *WFH* column of the stored dataframe __df2__ and $X$ to consist of the columns *ability, self\\_control, age and fulltime* of the stored dataframe __df1__ in the code cell below. Afterwards, please shortly state and explain (i) whether this is a regression or classification problem, and (ii) whether a linear or logistic regression is more appropriate in this particular type of problem. \n",
        "<div style=\"text-align: right\"> <b>4 points</b> </div>"
      ]
    },
    {
      "cell_type": "code",
      "execution_count": null,
      "metadata": {
        "id": "6mi7VXT2Mq8P"
      },
      "outputs": [],
      "source": [
        "# Insert your code here"
      ]
    },
    {
      "cell_type": "markdown",
      "metadata": {
        "id": "hb4PJMJNMq8P"
      },
      "source": [
        "'# Give verbal answer here"
      ]
    },
    {
      "cell_type": "markdown",
      "metadata": {
        "id": "KzumOB9kMq8P"
      },
      "source": [
        "**b)** Before we start fitting models, please split the data ($X,y$) into a training set (*X\\_train,y\\_train*) consisting of 75% of the observations and a test set (*X\\_test,y\\_test*) consisting of the remaining 25%. In addition, please explain why splitting the data into a training set and test set is important for model assessment.\n",
        "<div style=\"text-align: right\"> <b>4 points</b> </div>"
      ]
    },
    {
      "cell_type": "code",
      "execution_count": null,
      "metadata": {
        "id": "KTEhCP9OMq8P"
      },
      "outputs": [],
      "source": [
        "# Insert your code here"
      ]
    },
    {
      "cell_type": "markdown",
      "metadata": {
        "id": "VKXCg_pDMq8Q"
      },
      "source": [
        "'# Give verbal answer here"
      ]
    },
    {
      "cell_type": "markdown",
      "metadata": {
        "id": "LXGAqUOfMq8Q"
      },
      "source": [
        "**c)** Based on your choice of the most appropriate regression method in a), please fit it to the training set and print the misclassification rate on both the training set and test set. Furthermore, please explain whether the difference between the two misclassification rates implies that the model is overfitting the data.\n",
        "<div style=\"text-align: right\"> <b>5 points</b> </div>"
      ]
    },
    {
      "cell_type": "code",
      "execution_count": null,
      "metadata": {
        "id": "sMmrYxnGMq8Q"
      },
      "outputs": [],
      "source": [
        "# Insert your code here"
      ]
    },
    {
      "cell_type": "markdown",
      "metadata": {
        "id": "c7HDWAlsMq8Q"
      },
      "source": [
        "'# Give verbal answer here"
      ]
    },
    {
      "cell_type": "markdown",
      "metadata": {
        "id": "aqz6_6YlMq8R"
      },
      "source": [
        "**d)** To evaluate whether the model you fitted and evaluated in c) performs well, you decide to compare it to a so-called \"Dummy classifier\". That is, a classification method that always predicts the majority class. Please complete the code cell below in order to print the misclassification rate on both the training set and test set of the Dummy classifier. Compare (in words) its performance to the model you fitted and evaluated in c).\n",
        "<div style=\"text-align: right\"> <b>4 points</b> </div>"
      ]
    },
    {
      "cell_type": "code",
      "execution_count": null,
      "metadata": {
        "id": "8elqBH5GMq8R"
      },
      "outputs": [],
      "source": [
        "# Complete the code here\n",
        "from sklearn.dummy import DummyClassifier\n",
        "dummy = DummyClassifier().fit(X_train, y_train)\n",
        "\n",
        "\n"
      ]
    },
    {
      "cell_type": "markdown",
      "metadata": {
        "id": "EDW60zbaMq8R"
      },
      "source": [
        "'# Give verbal answer here"
      ]
    },
    {
      "cell_type": "markdown",
      "metadata": {
        "id": "Iy2IQ0-2Mq8R"
      },
      "source": [
        "**e)** We now wish to investigate whether more complex methods are able to predict the decision to work from home even better. In order to do this, please fit an unrestricted random forest classifier to the training data and print the misclassification rate on both training and test set. Afterwards, please compare the misclassification rate of the random forest to the model you fitted in c). Which one performs better? Furthermore, explain whether the difference in the misclassification rate between the training and test set of the random forest indicates whether it is overfitting the data. Finally, please explain how the performance of the random forest could be improved given additional time and resources.\n",
        "<div style=\"text-align: right\"> <b>8 points</b> </div>"
      ]
    },
    {
      "cell_type": "code",
      "execution_count": null,
      "metadata": {
        "id": "LnpBe8taMq8S"
      },
      "outputs": [],
      "source": [
        "# Insert your code here"
      ]
    },
    {
      "cell_type": "markdown",
      "metadata": {
        "id": "NUzTWwh6Mq8S"
      },
      "source": [
        "'# Give verbal answer here"
      ]
    },
    {
      "cell_type": "markdown",
      "metadata": {
        "id": "gtAiYedLMq8S"
      },
      "source": [
        "**f)** Print out the feature importance of all the features of the optimal random forest classifier you found in e). Which feature is most predictive of performance? Provide a potential reason for this.\n",
        "<div style=\"text-align: right\"> <b>5 points</b> </div>"
      ]
    },
    {
      "cell_type": "code",
      "execution_count": null,
      "metadata": {
        "id": "x5sTb7AXMq8S"
      },
      "outputs": [],
      "source": [
        "# Insert your code here"
      ]
    },
    {
      "cell_type": "markdown",
      "metadata": {
        "id": "5C9wY-ibMq8T"
      },
      "source": [
        "'# Give verbal answer here"
      ]
    }
  ],
  "metadata": {
    "interpreter": {
      "hash": "ef4960dce3206e1f2105fb7b5eb68a48b40cdc1707899c4efc0af9fa16ab6993"
    },
    "kernelspec": {
      "display_name": "Python 3.9.10 ('sa')",
      "language": "python",
      "name": "python3"
    },
    "language_info": {
      "codemirror_mode": {
        "name": "ipython",
        "version": 3
      },
      "file_extension": ".py",
      "mimetype": "text/x-python",
      "name": "python",
      "nbconvert_exporter": "python",
      "pygments_lexer": "ipython3",
      "version": "3.9.10"
    },
    "orig_nbformat": 4,
    "colab": {
      "name": "WS2122_EEMP_exam_PT2.ipynb",
      "provenance": [],
      "collapsed_sections": [
        "3fodEa48Mq8M"
      ]
    }
  },
  "nbformat": 4,
  "nbformat_minor": 0
}